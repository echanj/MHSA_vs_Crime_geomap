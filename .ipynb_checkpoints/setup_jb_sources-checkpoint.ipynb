{
 "cells": [
  {
   "cell_type": "markdown",
   "id": "f75eac31-6625-4ff8-98c6-95d47b845813",
   "metadata": {},
   "source": [
    "# `bigquery-public-data.sdoh_hrsa_shortage_areas.hpsa_mental_health` \n",
    "# and \n",
    "# sex offender data from jailbase API "
   ]
  },
  {
   "cell_type": "code",
   "execution_count": 1,
   "id": "c88b356f-dd89-4669-8173-fcfba8912578",
   "metadata": {
    "tags": []
   },
   "outputs": [
    {
     "name": "stdout",
     "output_type": "stream",
     "text": [
      "Populating the interactive namespace from numpy and matplotlib\n"
     ]
    }
   ],
   "source": [
    "import numpy as np\n",
    "import pandas as pd\n",
    "import matplotlib.pyplot as plt\n",
    "import matplotlib.pylab as pylab\n",
    "import seaborn as sns\n",
    "\n",
    "# Cause plots to be displayed in the notebook:\n",
    "%pylab inline\n",
    "%matplotlib inline"
   ]
  },
  {
   "cell_type": "code",
   "execution_count": 2,
   "id": "f91a0d69-3d66-4579-8571-984764b4690a",
   "metadata": {
    "tags": []
   },
   "outputs": [],
   "source": [
    "import requests"
   ]
  },
  {
   "cell_type": "code",
   "execution_count": 3,
   "id": "7efe525d-9942-4e74-a82c-b52c287cc7ad",
   "metadata": {
    "collapsed": true,
    "jupyter": {
     "outputs_hidden": true
    },
    "tags": []
   },
   "outputs": [
    {
     "name": "stdout",
     "output_type": "stream",
     "text": [
      "{\"status\": 1, \"next_page\": 2, \"records\": [{\"book_date_formatted\": \"Nov 06, 2021\", \"name\": \"Fernando Elizarraras Real\", \"mugshot\": \"https://imgstore.jailbase.com/widgets/NoMug.gif\", \"book_date\": \"2021-11-06\", \"charges\": [\"probation violation\", \"poss wpn by prohib person\", \"narcotic drug-possess/use\", \"narcotic drug-possess for sale\", \"possess/use wpn in drug off\"], \"id\": 35461294, \"more_info_url\": \"http://www.jailbase.com/en/az-mcsofernando-elizarraras-real-35461294\"}, {\"book_date_formatted\": \"Nov 06, 2021\", \"name\": \"Jada Humdallah El Jada\", \"mugshot\": \"https://imgstore.jailbase.com/widgets/NoMug.gif\", \"book_date\": \"2021-11-06\", \"charges\": [\"narcotic drug-possess/use\", \"narcotic drug-possess for sale\", \"drug paraphernalia-possess/use\", \"dangerous drug-poss/use\"], \"id\": 35461293, \"more_info_url\": \"http://www.jailbase.com/en/az-mcsojada-humdallah-el-jada-35461293\"}, {\"book_date_formatted\": \"Nov 06, 2021\", \"name\": \"Melody Marie Lara\", \"mugshot\": \"https://imgstore.jailbase.com/widgets/NoMug.gif\", \"book_date\": \"2021-11-06\", \"charges\": [\"\", \"drug paraphernalia-possess/use\", \"criminal damage-deface\", \"dangerous drug-poss/use\", \"crim tresp 1st deg-rsid/yard\", \"take contraband in corr facil\", \"narcotic drug-possess/use\", \"agg aslt-enter residence\", \"\"], \"id\": 35461292, \"more_info_url\": \"http://www.jailbase.com/en/az-mcsomelody-marie-lara-35461292\"}, {\"book_date_formatted\": \"Nov 06, 2021\", \"name\": \"Victor Eric Saldana\", \"mugshot\": \"https://imgstore.jailbase.com/widgets/NoMug.gif\", \"book_date\": \"2021-11-06\", \"charges\": [\"narcotic drug-possess/use\"], \"id\": 35461291, \"more_info_url\": \"http://www.jailbase.com/en/az-mcsovictor-eric-saldana-35461291\"}, {\"book_date_formatted\": \"Nov 06, 2021\", \"name\": \"Alfredo Perez\", \"mugshot\": \"https://imgstore.jailbase.com/widgets/NoMug.gif\", \"book_date\": \"2021-11-06\", \"charges\": [\"disorderly conduct-fighting\"], \"id\": 35461290, \"more_info_url\": \"http://www.jailbase.com/en/az-mcsoalfredo-perez-35461290\"}, {\"book_date_formatted\": \"Nov 06, 2021\", \"name\": \"Nathaniel Christopher Mccoy\", \"mugshot\": \"https://imgstore.jailbase.com/widgets/NoMug.gif\", \"book_date\": \"2021-11-06\", \"charges\": [\"armed robbery-with deadly wpn\", \"agg aslt-serious phy injury\", \"agg aslt-deadly wpn/dang inst\", \"armed robbery-threat use wpn\", \"kidnap-death/inj/sex/aid fel\", \"aggravated assault\"], \"id\": 35461289, \"more_info_url\": \"http://www.jailbase.com/en/az-mcsonathaniel-christopher-mccoy-35461289\"}, {\"book_date_formatted\": \"Nov 06, 2021\", \"name\": \"Jesse Emitt Skaggs\", \"mugshot\": \"https://imgstore.jailbase.com/widgets/NoMug.gif\", \"book_date\": \"2021-11-06\", \"charges\": [\"burglary 3rd degree\", \"fraudulent use of credit card\", \"drug paraphernalia-possess/use\", \"theft crdt crd obt fraud means\", \"dangerous drug-poss/use\", \"narcotic drug-possess/use\", \"\", \"shoplifting\"], \"id\": 35461288, \"more_info_url\": \"http://www.jailbase.com/en/az-mcsojesse-emitt-skaggs-35461288\"}, {\"book_date_formatted\": \"Nov 06, 2021\", \"name\": \"Darin Troy Laird\", \"mugshot\": \"https://imgstore.jailbase.com/widgets/NoMug.gif\", \"book_date\": \"2021-11-06\", \"charges\": [\"\"], \"id\": 35461287, \"more_info_url\": \"http://www.jailbase.com/en/az-mcsodarin-troy-laird-35461287\"}, {\"book_date_formatted\": \"Nov 06, 2021\", \"name\": \"Edward Lamar White\", \"mugshot\": \"https://imgstore.jailbase.com/widgets/NoMug.gif\", \"book_date\": \"2021-11-06\", \"charges\": [\"shoplifting-concealment\", \"drug paraphernalia-possess/use\", \"shoplift-less purchase price\"], \"id\": 35461286, \"more_info_url\": \"http://www.jailbase.com/en/az-mcsoedward-lamar-white-35461286\"}, {\"book_date_formatted\": \"Nov 06, 2021\", \"name\": \"Ashley Renee Bennett\", \"mugshot\": \"https://imgstore.jailbase.com/widgets/NoMug.gif\", \"book_date\": \"2021-11-06\", \"charges\": [\"narcotic drug-possess/use\", \"drug paraphernalia-possess/use\", \"dangerous drug-poss/use\", \"\"], \"id\": 35461285, \"more_info_url\": \"http://www.jailbase.com/en/az-mcsoashley-renee-bennett-35461285\"}], \"current_page\": 1, \"total_records\": 100, \"jail\": {\"city\": \"Phoenix\", \"name\": \"Maricopa County Sheriff's Office\", \"url\": \"maricopa-county-az\", \"address1\": \"550 West Jackson Street\", \"address2\": \"\", \"state\": \"AZ\"}, \"msg\": \"\"}\n"
     ]
    }
   ],
   "source": [
    "url = \"https://jailbase-jailbase.p.rapidapi.com/recent/\"\n",
    "\n",
    "querystring = {\"source_id\":\"az-mcso\"}\n",
    "\n",
    "headers = {\n",
    "\"X-RapidAPI-Key\": \"1a4e94da6emsh1187220dd8e00b0p1211b1jsn7b1e5e9f2292\",\n",
    "\"X-RapidAPI-Host\": \"jailbase-jailbase.p.rapidapi.com\"\n",
    "}\n",
    "\n",
    "response = requests.request(\"GET\", url, headers=headers, params=querystring)\n",
    "\n",
    "print(response.text)"
   ]
  },
  {
   "cell_type": "code",
   "execution_count": 11,
   "id": "e62f9a37-7f38-47a3-8326-36abb32d181d",
   "metadata": {
    "tags": []
   },
   "outputs": [
    {
     "data": {
      "text/plain": [
       "['DD_HPSA_METADATA_VX', 'Data Dictionary']"
      ]
     },
     "execution_count": 11,
     "metadata": {},
     "output_type": "execute_result"
    }
   ],
   "source": [
    "xls = pd.ExcelFile('HPSA_DATAMART_METADATA.XLSX')\n",
    "x"
   ]
  },
  {
   "cell_type": "code",
   "execution_count": 20,
   "id": "fd2a1deb-7959-42e9-b88c-5438ffec8968",
   "metadata": {
    "tags": []
   },
   "outputs": [],
   "source": [
    "hpsa_meta= pd.read_excel('HPSA_DATAMART_METADATA.XLSX',sheet_name='Data Dictionary')\n",
    "hpsa_meta= pd.read_excel(xls,'Data Dictionary')\n",
    "hpsa_DD= pd.read_excel(xls,'DD_HPSA_METADATA_VX')"
   ]
  },
  {
   "cell_type": "code",
   "execution_count": 22,
   "id": "0d8219b6-7fe9-4667-84d1-ea668258dc02",
   "metadata": {
    "tags": []
   },
   "outputs": [
    {
     "data": {
      "text/html": [
       "<div>\n",
       "<style scoped>\n",
       "    .dataframe tbody tr th:only-of-type {\n",
       "        vertical-align: middle;\n",
       "    }\n",
       "\n",
       "    .dataframe tbody tr th {\n",
       "        vertical-align: top;\n",
       "    }\n",
       "\n",
       "    .dataframe thead th {\n",
       "        text-align: right;\n",
       "    }\n",
       "</style>\n",
       "<table border=\"1\" class=\"dataframe\">\n",
       "  <thead>\n",
       "    <tr style=\"text-align: right;\">\n",
       "      <th></th>\n",
       "      <th>Column</th>\n",
       "      <th>Description</th>\n",
       "    </tr>\n",
       "  </thead>\n",
       "  <tbody>\n",
       "    <tr>\n",
       "      <th>0</th>\n",
       "      <td>Health Professional Shortage Areas (HPSA) Data...</td>\n",
       "      <td>This entity represents the data dictionary for...</td>\n",
       "    </tr>\n",
       "    <tr>\n",
       "      <th>1</th>\n",
       "      <td>Attribute Name</td>\n",
       "      <td>This attribute represents the specific user fr...</td>\n",
       "    </tr>\n",
       "    <tr>\n",
       "      <th>2</th>\n",
       "      <td>Physical Column Name</td>\n",
       "      <td>This attribute represents the metadata databas...</td>\n",
       "    </tr>\n",
       "    <tr>\n",
       "      <th>3</th>\n",
       "      <td>User Friendly Names</td>\n",
       "      <td>This attribute represents the concatenated lis...</td>\n",
       "    </tr>\n",
       "    <tr>\n",
       "      <th>4</th>\n",
       "      <td>Definition</td>\n",
       "      <td>This attribute represents the basic definition...</td>\n",
       "    </tr>\n",
       "    <tr>\n",
       "      <th>5</th>\n",
       "      <td>Data Restriction</td>\n",
       "      <td>This attribute represents the description of t...</td>\n",
       "    </tr>\n",
       "    <tr>\n",
       "      <th>6</th>\n",
       "      <td>Organization</td>\n",
       "      <td>This attribute represents the name of the sour...</td>\n",
       "    </tr>\n",
       "    <tr>\n",
       "      <th>7</th>\n",
       "      <td>Update Frequency</td>\n",
       "      <td>This attribute represents the description of t...</td>\n",
       "    </tr>\n",
       "    <tr>\n",
       "      <th>8</th>\n",
       "      <td>Data Type</td>\n",
       "      <td>This attribute represents the classification o...</td>\n",
       "    </tr>\n",
       "    <tr>\n",
       "      <th>9</th>\n",
       "      <td>Business Rule / Format</td>\n",
       "      <td>This attribute represents the specific busines...</td>\n",
       "    </tr>\n",
       "    <tr>\n",
       "      <th>10</th>\n",
       "      <td>HDW Transformation</td>\n",
       "      <td>This attribute represents the specific process...</td>\n",
       "    </tr>\n",
       "    <tr>\n",
       "      <th>11</th>\n",
       "      <td>Valid Values</td>\n",
       "      <td>This attribute represents the description of t...</td>\n",
       "    </tr>\n",
       "    <tr>\n",
       "      <th>12</th>\n",
       "      <td>Definition Update Date</td>\n",
       "      <td>This attribute represents the date on which th...</td>\n",
       "    </tr>\n",
       "  </tbody>\n",
       "</table>\n",
       "</div>"
      ],
      "text/plain": [
       "                                               Column  \\\n",
       "0   Health Professional Shortage Areas (HPSA) Data...   \n",
       "1                                      Attribute Name   \n",
       "2                                Physical Column Name   \n",
       "3                                 User Friendly Names   \n",
       "4                                          Definition   \n",
       "5                                    Data Restriction   \n",
       "6                                        Organization   \n",
       "7                                    Update Frequency   \n",
       "8                                           Data Type   \n",
       "9                              Business Rule / Format   \n",
       "10                                 HDW Transformation   \n",
       "11                                       Valid Values   \n",
       "12                             Definition Update Date   \n",
       "\n",
       "                                          Description  \n",
       "0   This entity represents the data dictionary for...  \n",
       "1   This attribute represents the specific user fr...  \n",
       "2   This attribute represents the metadata databas...  \n",
       "3   This attribute represents the concatenated lis...  \n",
       "4   This attribute represents the basic definition...  \n",
       "5   This attribute represents the description of t...  \n",
       "6   This attribute represents the name of the sour...  \n",
       "7   This attribute represents the description of t...  \n",
       "8   This attribute represents the classification o...  \n",
       "9   This attribute represents the specific busines...  \n",
       "10  This attribute represents the specific process...  \n",
       "11  This attribute represents the description of t...  \n",
       "12  This attribute represents the date on which th...  "
      ]
     },
     "execution_count": 22,
     "metadata": {},
     "output_type": "execute_result"
    }
   ],
   "source": [
    "hpsa_meta"
   ]
  },
  {
   "cell_type": "code",
   "execution_count": null,
   "id": "277ec2e0-18c3-4ee5-9a52-3ee6c82ee57a",
   "metadata": {},
   "outputs": [],
   "source": []
  }
 ],
 "metadata": {
  "kernelspec": {
   "display_name": "Python 3 (ipykernel)",
   "language": "python",
   "name": "python3"
  },
  "language_info": {
   "codemirror_mode": {
    "name": "ipython",
    "version": 3
   },
   "file_extension": ".py",
   "mimetype": "text/x-python",
   "name": "python",
   "nbconvert_exporter": "python",
   "pygments_lexer": "ipython3",
   "version": "3.7.16"
  }
 },
 "nbformat": 4,
 "nbformat_minor": 5
}
